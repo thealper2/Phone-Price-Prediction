{
 "cells": [
  {
   "cell_type": "markdown",
   "id": "0fd79d59-fe2e-4091-bf0c-0f5d5486d2e4",
   "metadata": {},
   "source": [
    "# Import Required Libraries"
   ]
  },
  {
   "cell_type": "code",
   "execution_count": null,
   "id": "ef75ed96-353d-4506-a21b-702cbb78130e",
   "metadata": {},
   "outputs": [],
   "source": [
    "import numpy as np\n",
    "import pandas as pd\n",
    "import datetime\n",
    "from collections import Counter\n",
    "import os\n",
    "import pickle\n",
    "import io\n",
    "\n",
    "import seaborn as sns\n",
    "import matplotlib.pyplot as plt\n",
    "\n",
    "sns.set_style(\"whitegrid\")\n",
    "pd.set_option(\"display.max_columns\", None)\n",
    "pd.set_option(\"display.max_colwidth\", None)\n",
    "pd.set_option(\"display.float_format\", lambda x: \"%.2f\" % x)\n",
    "\n",
    "from sklearn.model_selection import train_test_split, RandomizedSearchCV, KFold\n",
    "from sklearn.metrics import r2_score, mean_absolute_error, mean_squared_error\n",
    "from sklearn.preprocessing import StandardScaler, OneHotEncoder, OrdinalEncoder\n",
    "from sklearn.compose import ColumnTransformer\n",
    "\n",
    "from sklearn.ensemble import RandomForestRegressor, GradientBoostingRegressor, AdaBoostRegressor\n",
    "from sklearn.linear_model import Ridge, Lasso, LinearRegression, ElasticNet\n",
    "from sklearn.svm import SVR, LinearSVR\n",
    "from sklearn.kernel_ridge import KernelRidge\n",
    "from lightgbm import LGBMRegressor\n",
    "from xgboost import XGBRegressor\n",
    "from catboost import CatBoostRegressor\n",
    "from sklearn.neighbors import KNeighborsRegressor\n",
    "\n",
    "from sklearn.feature_selection import f_regression\n",
    "from sklearn.feature_selection import mutual_info_regression\n",
    "from sklearn.feature_selection import SelectKBest\n",
    "\n",
    "from IPython.display import Markdown\n",
    "\n",
    "def bold(string):\n",
    "    display(Markdown(\"**\" + string + \"**\"))\n",
    "\n",
    "import warnings\n",
    "from sklearn.exceptions import ConvergenceWarning\n",
    "warnings.filterwarnings(\"ignore\", category=UserWarning)\n",
    "warnings.filterwarnings(\"ignore\", category=FutureWarning)\n",
    "warnings.filterwarnings(\"ignore\", category=ConvergenceWarning)"
   ]
  },
  {
   "cell_type": "markdown",
   "id": "ec967064-e0ef-4afb-ab44-36c1d7328397",
   "metadata": {},
   "source": [
    "# Load Data"
   ]
  },
  {
   "cell_type": "code",
   "execution_count": null,
   "id": "dcc4773a-33f7-426e-a8d6-0a7c79ef88c5",
   "metadata": {},
   "outputs": [],
   "source": [
    "df_ = pd.read_csv(\"/mnt/hdd/Datasets/TrendyolSmartPhone.csv\")\n",
    "df = df_.copy()\n",
    "df.head()"
   ]
  },
  {
   "cell_type": "code",
   "execution_count": null,
   "id": "9479ed74-d7cf-4a9d-b31c-9b55611dbc0e",
   "metadata": {},
   "outputs": [],
   "source": [
    "def df_stats(data):\n",
    "    bold(\"**\" + \" SHAPE \".center(50, \"#\") + \"**\")\n",
    "    print(\"ROWS: {}\".format(data.shape[0]))\n",
    "    print(\"COLUMNS: {}\".format(data.shape[1]))\n",
    "    bold(\"**\" + \" TYPES \".center(50, \"#\") + \"**\")\n",
    "    print(data.dtypes)\n",
    "    bold(\"**\" + \" MISSING VALUES \".center(50, \"#\") + \"**\")\n",
    "    print(data.isnull().sum())\n",
    "    bold(\"**\" + \" DUPLICATED VALUES \".center(50, \"#\") + \"**\")\n",
    "    print(\"NUMBER OF DUPLICATED VALUES: {}\".format(data.duplicated().sum()))\n",
    "    bold(\"**\" + \" MEMORY USAGE \".center(50, \"#\") + \"**\")\n",
    "    buf = io.StringIO()\n",
    "    data.info(buf=buf)\n",
    "    info = buf.getvalue().split(\"\\n\")[-2].split(\":\")[1].strip()\n",
    "    print(\"Memory Usage: {}\".format(info))\n",
    "    bold(\"**\" + \" DESCRIBE \".center(50, \"#\") + \"**\")\n",
    "    print(data.describe().T)"
   ]
  },
  {
   "cell_type": "code",
   "execution_count": null,
   "id": "930845c2-ea5e-4f27-b1ab-0a78bdf2e631",
   "metadata": {},
   "outputs": [],
   "source": [
    "df_stats(df)"
   ]
  },
  {
   "cell_type": "code",
   "execution_count": null,
   "id": "145faf29-a11f-45c9-9842-2e91bd2ca2d6",
   "metadata": {},
   "outputs": [],
   "source": [
    "df.drop([\"Urun Başlığı\", \"Link\"], axis=1, inplace=True)"
   ]
  },
  {
   "cell_type": "code",
   "execution_count": null,
   "id": "fe3f266c-9608-4322-8074-44a901402831",
   "metadata": {},
   "outputs": [],
   "source": [
    "df.head()"
   ]
  },
  {
   "cell_type": "code",
   "execution_count": null,
   "id": "9fcb4416-0e61-4bc9-919b-387883131420",
   "metadata": {},
   "outputs": [],
   "source": [
    "df.isnull().sum()"
   ]
  },
  {
   "cell_type": "markdown",
   "id": "27fb7fb8-6951-4912-8ffc-462eb4978690",
   "metadata": {},
   "source": [
    "# Fill NaN"
   ]
  },
  {
   "cell_type": "code",
   "execution_count": null,
   "id": "93444722-a13b-4e53-b6bf-5199f3386021",
   "metadata": {},
   "outputs": [],
   "source": [
    "df[\"Görüntü Teknolojisi\"].value_counts()"
   ]
  },
  {
   "cell_type": "code",
   "execution_count": null,
   "id": "37482bbd-fab0-4894-b289-cbe28d4a7008",
   "metadata": {},
   "outputs": [],
   "source": [
    "df[\"Görüntü Teknolojisi\"].fillna(\"LCD\", inplace=True)"
   ]
  },
  {
   "cell_type": "code",
   "execution_count": null,
   "id": "14e4228a-18a0-4679-b8fe-57d0d751f9c2",
   "metadata": {},
   "outputs": [],
   "source": [
    "df[\"Ekran Çözünürlüğü\"].value_counts()"
   ]
  },
  {
   "cell_type": "code",
   "execution_count": null,
   "id": "146b3fc8-626f-44b8-916b-7c0a939a9088",
   "metadata": {},
   "outputs": [],
   "source": [
    "df[\"Ekran Çözünürlüğü\"].fillna(\"HD\", inplace=True)"
   ]
  },
  {
   "cell_type": "code",
   "execution_count": null,
   "id": "d59de31b-bb62-4e25-add6-43b156ed1dd7",
   "metadata": {},
   "outputs": [],
   "source": [
    "df[\"Kamera Çözünürlüğü\"].value_counts()"
   ]
  },
  {
   "cell_type": "code",
   "execution_count": null,
   "id": "db96609f-5ea7-41af-8c8b-dd92d5fbc7e8",
   "metadata": {},
   "outputs": [],
   "source": [
    "df[\"Kamera Çözünürlüğü\"].fillna(\"20 MP ve üstü\", inplace=True)"
   ]
  },
  {
   "cell_type": "code",
   "execution_count": null,
   "id": "3ba9a5ec-d5ac-405f-9d7e-e3d3c342a163",
   "metadata": {},
   "outputs": [],
   "source": [
    "df[\"Batarya Kapasitesi Aralığı\"].value_counts()"
   ]
  },
  {
   "cell_type": "code",
   "execution_count": null,
   "id": "b64f8ba8-501d-42fd-9c05-5b28c0d20c85",
   "metadata": {},
   "outputs": [],
   "source": [
    "df[\"Batarya Kapasitesi Aralığı\"].fillna(\"3500-4000 mAh\", inplace=True)"
   ]
  },
  {
   "cell_type": "code",
   "execution_count": null,
   "id": "b9c6faeb-a9f6-47de-a2c6-9b984a09adae",
   "metadata": {},
   "outputs": [],
   "source": [
    "df[\"Mobil Bağlantı Hızı\"].value_counts()"
   ]
  },
  {
   "cell_type": "code",
   "execution_count": null,
   "id": "145e3b0e-d529-4fdf-8317-ed60b0750680",
   "metadata": {},
   "outputs": [],
   "source": [
    "df[\"Mobil Bağlantı Hızı\"].fillna(\"4.5G\", inplace=True)"
   ]
  },
  {
   "cell_type": "code",
   "execution_count": null,
   "id": "9fdfb2c9-6b28-4692-954f-61ff95c7d7e5",
   "metadata": {},
   "outputs": [],
   "source": [
    "df[\"Ekran Boyutu\"].value_counts()"
   ]
  },
  {
   "cell_type": "code",
   "execution_count": null,
   "id": "4449e4bf-df96-4dbd-b5be-f49440131232",
   "metadata": {},
   "outputs": [],
   "source": [
    "df[\"Ekran Boyutu\"].fillna(\"6 inç ve üstü\", inplace=True)"
   ]
  },
  {
   "cell_type": "code",
   "execution_count": null,
   "id": "9b09e86f-5e60-4c35-b24a-508e0e769c98",
   "metadata": {},
   "outputs": [],
   "source": [
    "df[\"Parmak İzi Okuyucu\"].value_counts()"
   ]
  },
  {
   "cell_type": "code",
   "execution_count": null,
   "id": "c0f17d9a-d1a3-44f7-8565-84246b5c7b9f",
   "metadata": {},
   "outputs": [],
   "source": [
    "df[\"Parmak İzi Okuyucu\"].fillna(\"Var\", inplace=True)"
   ]
  },
  {
   "cell_type": "code",
   "execution_count": null,
   "id": "b13cb521-d352-4fbb-a0bd-e6997837d1be",
   "metadata": {},
   "outputs": [],
   "source": [
    "df[\"Yüz Tanıma\"].value_counts()"
   ]
  },
  {
   "cell_type": "code",
   "execution_count": null,
   "id": "1f0fffac-423a-4e0a-8d9b-9944cc3d87d2",
   "metadata": {},
   "outputs": [],
   "source": [
    "df[\"Yüz Tanıma\"].fillna(\"Var\", inplace=True)"
   ]
  },
  {
   "cell_type": "code",
   "execution_count": null,
   "id": "db5d0d65-4dc4-4fd7-b021-9f5990ea4547",
   "metadata": {},
   "outputs": [],
   "source": [
    "df[\"Suya/Toza Dayanıklılık\"].value_counts()"
   ]
  },
  {
   "cell_type": "code",
   "execution_count": null,
   "id": "119acd9b-2d77-443f-a635-ee87503ff344",
   "metadata": {},
   "outputs": [],
   "source": [
    "df[\"Suya/Toza Dayanıklılık\"].fillna(\"Var\", inplace=True)"
   ]
  },
  {
   "cell_type": "code",
   "execution_count": null,
   "id": "548d5b1e-cc4a-4d51-aebb-62ad1f37a2ae",
   "metadata": {},
   "outputs": [],
   "source": [
    "df[\"Çift Hat\"].value_counts()"
   ]
  },
  {
   "cell_type": "code",
   "execution_count": null,
   "id": "3598d6cd-4459-495a-a14b-bcb895e2d1bc",
   "metadata": {},
   "outputs": [],
   "source": [
    "df[\"Çift Hat\"].fillna(\"Var\", inplace=True)"
   ]
  },
  {
   "cell_type": "code",
   "execution_count": null,
   "id": "7db04167-7ad8-4af4-8e7c-dcd8be8e924a",
   "metadata": {},
   "outputs": [],
   "source": [
    "df[\"Arttırılabilir Hafıza (Hafıza Kartı Desteği)\"].value_counts()"
   ]
  },
  {
   "cell_type": "code",
   "execution_count": null,
   "id": "2c3e1951-432a-4424-9607-09439a840e3c",
   "metadata": {},
   "outputs": [],
   "source": [
    "df[\"Arttırılabilir Hafıza (Hafıza Kartı Desteği)\"].fillna(\"Var\", inplace=True)"
   ]
  },
  {
   "cell_type": "code",
   "execution_count": null,
   "id": "0d2ae8f7-e453-4dc5-899f-f8f5d4da4435",
   "metadata": {},
   "outputs": [],
   "source": [
    "df[\"Ekran Yenileme Hızı\"].value_counts()"
   ]
  },
  {
   "cell_type": "code",
   "execution_count": null,
   "id": "96f5eaa2-eea3-4c29-89a1-54ce00e58a1a",
   "metadata": {},
   "outputs": [],
   "source": [
    "df[\"Ekran Yenileme Hızı\"].fillna(\"60 Hz\", inplace=True)"
   ]
  },
  {
   "cell_type": "code",
   "execution_count": null,
   "id": "bb12bb51-6841-4c49-bfb1-195ac2226fe1",
   "metadata": {},
   "outputs": [],
   "source": [
    "df.shape"
   ]
  },
  {
   "cell_type": "code",
   "execution_count": null,
   "id": "77e648f2-944f-4996-980e-2550882ffa30",
   "metadata": {},
   "outputs": [],
   "source": [
    "df.dropna(inplace=True)"
   ]
  },
  {
   "cell_type": "code",
   "execution_count": null,
   "id": "fa895068-4855-42da-bd10-63c6f4ed4d19",
   "metadata": {},
   "outputs": [],
   "source": [
    "df.shape"
   ]
  },
  {
   "cell_type": "markdown",
   "id": "bf867fc1-de0d-40c6-9a65-b71fcb9678d3",
   "metadata": {},
   "source": [
    "# EDA"
   ]
  },
  {
   "cell_type": "code",
   "execution_count": null,
   "id": "5596c798-000e-423b-9f75-ee550730ee4b",
   "metadata": {},
   "outputs": [],
   "source": [
    "df[\"Marka\"].value_counts().plot(kind=\"bar\")"
   ]
  },
  {
   "cell_type": "code",
   "execution_count": null,
   "id": "895ec41c-b03c-4263-b0df-ecab68ad5f19",
   "metadata": {},
   "outputs": [],
   "source": [
    "df[\"İşletim Sistemi\"].value_counts().plot(kind=\"bar\")"
   ]
  },
  {
   "cell_type": "code",
   "execution_count": null,
   "id": "a9290c9f-5198-4354-9bd6-69880dea70d0",
   "metadata": {},
   "outputs": [],
   "source": [
    "df[\"Dahili Hafıza\"].value_counts().plot(kind=\"bar\")"
   ]
  },
  {
   "cell_type": "code",
   "execution_count": null,
   "id": "a0067532-ff9d-46ad-ba2c-5ba6a943e2f1",
   "metadata": {},
   "outputs": [],
   "source": [
    "df[\"RAM Kapasitesi\"].value_counts().plot(kind=\"bar\")"
   ]
  },
  {
   "cell_type": "code",
   "execution_count": null,
   "id": "36490b4a-742b-4d23-8313-29be081e4666",
   "metadata": {},
   "outputs": [],
   "source": [
    "df['Görüntü Teknolojisi'].value_counts().plot(kind=\"bar\")"
   ]
  },
  {
   "cell_type": "code",
   "execution_count": null,
   "id": "6148db23-7258-4da5-89d0-b9c57d6edbde",
   "metadata": {},
   "outputs": [],
   "source": [
    "df['Ekran Çözünürlüğü'].value_counts().plot(kind=\"bar\")"
   ]
  },
  {
   "cell_type": "code",
   "execution_count": null,
   "id": "34cc396b-1303-4522-99e6-ecccb4bcc514",
   "metadata": {},
   "outputs": [],
   "source": [
    "df['Kamera Çözünürlüğü'].value_counts().plot(kind=\"bar\")"
   ]
  },
  {
   "cell_type": "code",
   "execution_count": null,
   "id": "bbab1ed5-57e0-44ed-bfe9-d455d0d27d45",
   "metadata": {},
   "outputs": [],
   "source": [
    "df['Batarya Kapasitesi Aralığı'].value_counts().plot(kind=\"bar\")"
   ]
  },
  {
   "cell_type": "code",
   "execution_count": null,
   "id": "88b1ee96-2fa8-4ae3-a48b-4dd66c6104e2",
   "metadata": {},
   "outputs": [],
   "source": [
    "df['Mobil Bağlantı Hızı'].value_counts().plot(kind=\"bar\")"
   ]
  },
  {
   "cell_type": "code",
   "execution_count": null,
   "id": "3d949702-e47e-4661-ab5d-ecbea181d6e4",
   "metadata": {},
   "outputs": [],
   "source": [
    "df['Ekran Boyutu'].value_counts().plot(kind=\"bar\")"
   ]
  },
  {
   "cell_type": "code",
   "execution_count": null,
   "id": "be488b34-92f2-4346-a4ee-d770b9c2a086",
   "metadata": {},
   "outputs": [],
   "source": [
    "df['Parmak İzi Okuyucu'].value_counts().plot(kind=\"bar\")"
   ]
  },
  {
   "cell_type": "code",
   "execution_count": null,
   "id": "ec910b5e-ae76-4e9c-8c23-8c18faee34b6",
   "metadata": {},
   "outputs": [],
   "source": [
    "df['Yüz Tanıma'].value_counts().plot(kind=\"bar\")"
   ]
  },
  {
   "cell_type": "code",
   "execution_count": null,
   "id": "5494a24c-b955-4656-9099-5695f2535b2e",
   "metadata": {},
   "outputs": [],
   "source": [
    "df['Suya/Toza Dayanıklılık'].value_counts().plot(kind=\"bar\")"
   ]
  },
  {
   "cell_type": "code",
   "execution_count": null,
   "id": "1e39cc98-4586-4113-a2d4-6e5cdc11ea57",
   "metadata": {},
   "outputs": [],
   "source": [
    "df['Çift Hat'].value_counts().plot(kind=\"bar\")"
   ]
  },
  {
   "cell_type": "code",
   "execution_count": null,
   "id": "a1f8be1c-95b6-4985-bcf3-061989bc186b",
   "metadata": {},
   "outputs": [],
   "source": [
    "df['Arttırılabilir Hafıza (Hafıza Kartı Desteği)'].value_counts().plot(kind=\"bar\")"
   ]
  },
  {
   "cell_type": "code",
   "execution_count": null,
   "id": "2426ade2-4a80-4aa9-8132-6aaa56d41629",
   "metadata": {},
   "outputs": [],
   "source": [
    "df['Ekran Yenileme Hızı'].value_counts().plot(kind=\"bar\")"
   ]
  },
  {
   "cell_type": "markdown",
   "id": "8c17f26c-4a28-42e8-8660-14f6ff3b9616",
   "metadata": {},
   "source": [
    "# Preprocess"
   ]
  },
  {
   "cell_type": "code",
   "execution_count": null,
   "id": "95b2415e-74d4-4b75-9aa5-118f37f0386b",
   "metadata": {},
   "outputs": [],
   "source": [
    "df.head()"
   ]
  },
  {
   "cell_type": "code",
   "execution_count": null,
   "id": "2b56ade3-aa9e-41bb-8028-6dbe7b1c05f7",
   "metadata": {},
   "outputs": [],
   "source": [
    "df.drop(df[df[\"Dahili Hafıza\"] == \"8 GB\"].index, inplace = True)\n",
    "df.drop(df[df[\"Dahili Hafıza\"] == \"4 GB\"].index, inplace = True)\n",
    "df.drop(df[df[\"Dahili Hafıza\"] == \"512 MB\"].index, inplace = True)\n",
    "df.drop(df[df[\"Dahili Hafıza\"] == \"Yok\"].index, inplace = True)"
   ]
  },
  {
   "cell_type": "code",
   "execution_count": null,
   "id": "d6384286-291c-4b63-92fc-5bf7f0914b23",
   "metadata": {},
   "outputs": [],
   "source": [
    "df.drop(df[df[\"RAM Kapasitesi\"] == \"32 GB\"].index, inplace = True)"
   ]
  },
  {
   "cell_type": "code",
   "execution_count": null,
   "id": "8b010082-0fa1-4f66-9d9b-7794d15afe60",
   "metadata": {},
   "outputs": [],
   "source": [
    "df[\"Görüntü Teknolojisi\"] = df[\"Görüntü Teknolojisi\"].map({\"LCD\": \"LCD\",\n",
    "                                                           \"AMOLED\": \"AMOLED\",\n",
    "                                                           \"OLED\": \"OLED\",\n",
    "                                                           \"LED\": \"AMOLED\"})"
   ]
  },
  {
   "cell_type": "code",
   "execution_count": null,
   "id": "09d57811-5032-458c-b62e-86c03cbb64af",
   "metadata": {},
   "outputs": [],
   "source": [
    "df[\"Ekran Çözünürlüğü\"] = df[\"Ekran Çözünürlüğü\"].map({\"HD\": \"HD\",\n",
    "                                                       \"FHD+\": \"FHD\",\n",
    "                                                       \"HD+\": \"HD\",\n",
    "                                                       \"QHD+\": \"QHD\",\n",
    "                                                       \"QHD\": \"QHD\",\n",
    "                                                       \"UHD+\": \"UHD+\"})"
   ]
  },
  {
   "cell_type": "code",
   "execution_count": null,
   "id": "221e2605-a834-4437-9ed4-15658722e367",
   "metadata": {},
   "outputs": [],
   "source": [
    "df.drop(df[df[\"Ekran Çözünürlüğü\"] == \"UHD+\"].index, inplace = True)"
   ]
  },
  {
   "cell_type": "code",
   "execution_count": null,
   "id": "bfff821e-9ba4-47ff-9057-d783b44e5098",
   "metadata": {},
   "outputs": [],
   "source": [
    "df[\"Kamera Çözünürlüğü\"] = df[\"Kamera Çözünürlüğü\"].map({\"20 MP ve üstü\": \"15 MP ve üstü\",\n",
    "                                                         \"10 - 15 MP\": \"15 MP ve altı\",\n",
    "                                                         \"15 - 20 MP\": \"15 MP ve üstü\",\n",
    "                                                         \"5 - 10 MP\": \"15 MP ve altı\",\n",
    "                                                         \"5 MP ve altı\": \"15 MP ve altı\"})"
   ]
  },
  {
   "cell_type": "code",
   "execution_count": null,
   "id": "0f3b7192-bbe1-49aa-8f15-e5b117d49f28",
   "metadata": {},
   "outputs": [],
   "source": [
    "df.drop(df[df[\"Ekran Boyutu\"] == \"65\\\" / 165 Ekran\"].index, inplace = True)  \n",
    "df.drop(df[df[\"Ekran Boyutu\"] == \"24\\\" / 61 Ekran\"].index, inplace = True)\n",
    "df.drop(df[df[\"Ekran Boyutu\"] == \"7 - 10 inç\"].index, inplace = True)"
   ]
  },
  {
   "cell_type": "code",
   "execution_count": null,
   "id": "2b136f12-04a8-49d5-86a6-1d51b4e71c65",
   "metadata": {},
   "outputs": [],
   "source": [
    "df[\"Ekran Boyutu\"] = df[\"Ekran Boyutu\"].map({'6 inç\\xa0ve üstü': \"6 inç ve üstü\",\n",
    "                                             \"6 inç ve üstü\": \"6 inç ve üstü\",\n",
    "                                             \"6 inch ve üstü\": \"6 inç ve üstü\",\n",
    "                                             \"6 - 8 inç\": \"6 inç ve üstü\",\n",
    "                                             \"4 - 4,5 inç\": \"6 inç ve altı\",\n",
    "                                             \"6 inç ve altı\": \"6 inç ve altı\",\n",
    "                                             \"5 - 5,5 inç\": \"6 inç ve altı\",\n",
    "                                             '5,5 - 6 inç': \"6 inç ve altı\",\n",
    "                                             '6,8 inç': \"6 inç ve üstü\",\n",
    "                                             '10,5 inç': \"6 inç ve üstü\",\n",
    "                                             '4,5 - 5 inç': \"6 inç ve altı\"})"
   ]
  },
  {
   "cell_type": "code",
   "execution_count": null,
   "id": "873e6d2d-19d9-46cc-9c26-967360a390d9",
   "metadata": {},
   "outputs": [],
   "source": [
    "df[\"Ekran Yenileme Hızı\"] = df[\"Ekran Yenileme Hızı\"].map({\"60 Hz\": \"60 Hz\",\n",
    "                                                           \"120 Hz\": \"60 Hz üstü\",\n",
    "                                                           \"90 Hz\": \"60 Hz üstü\",\n",
    "                                                           \"60 Hz altı\": \"60 Hz altı\",\n",
    "                                                           \"144 Hz\": \"60 Hz üstü\",\n",
    "                                                           \"144 Hz üstü\": \"60 Hz üstü\"})"
   ]
  },
  {
   "cell_type": "code",
   "execution_count": null,
   "id": "1c66d3d5-a4f8-452f-ba9d-aa140ccff548",
   "metadata": {},
   "outputs": [],
   "source": [
    "df.head()"
   ]
  },
  {
   "cell_type": "code",
   "execution_count": null,
   "id": "499d5715-c32a-4d54-ada5-c2b1fb8d29ea",
   "metadata": {},
   "outputs": [],
   "source": [
    "df.to_csv(\"preprocessed.csv\")"
   ]
  },
  {
   "cell_type": "code",
   "execution_count": null,
   "id": "1a76de7f-559a-4806-89d5-2595ce71efd0",
   "metadata": {},
   "outputs": [],
   "source": [
    "df[\"Fiyat\"] = df[\"Fiyat\"].apply(lambda x: x.replace(\" TL\", \"\"))"
   ]
  },
  {
   "cell_type": "code",
   "execution_count": null,
   "id": "20cfa9c8-3b1b-4c31-abb4-37eec629c036",
   "metadata": {},
   "outputs": [],
   "source": [
    "df[\"Fiyat\"] = df[\"Fiyat\"].astype(int)"
   ]
  },
  {
   "cell_type": "markdown",
   "id": "91d805a7-3483-41ef-b142-695e10fc2f5d",
   "metadata": {},
   "source": [
    "# Outlier Detection"
   ]
  },
  {
   "cell_type": "code",
   "execution_count": null,
   "id": "e6edc39a-2faa-43ac-b8ab-0ce64184ec78",
   "metadata": {},
   "outputs": [],
   "source": [
    "def custom_boxplot(df, columns, title):\n",
    "    fig, ax = plt.subplots(1 , 1, sharey=True, figsize=(15, len(columns) * 2.5))\n",
    "    fig.suptitle(title, y=1, size=25)\n",
    "    \n",
    "    for i, column in enumerate(columns):\n",
    "        sns.boxplot(data=df[column], orient=\"h\", ax=ax)\n",
    "        ax.set_title(column + \", skewness is: \" + str(round(df[column].skew(axis=0, skipna=True), 2)))\n",
    "\n",
    "    plt.tight_layout()\n",
    "    plt.show()"
   ]
  },
  {
   "cell_type": "code",
   "execution_count": null,
   "id": "082bc105-c795-4b0d-8b6c-2e3749873ae8",
   "metadata": {},
   "outputs": [],
   "source": [
    "custom_boxplot(df, [\"Fiyat\"], \"Boxplots for each numeric variable\")"
   ]
  },
  {
   "cell_type": "markdown",
   "id": "6308350f-65d6-47d4-9200-cd162ede6e23",
   "metadata": {},
   "source": [
    "# Feature Scaling"
   ]
  },
  {
   "cell_type": "code",
   "execution_count": null,
   "id": "8c933725-9fd3-4976-8dfc-c1a9e51178cb",
   "metadata": {},
   "outputs": [],
   "source": [
    "X = df.drop(\"Fiyat\", axis=1)\n",
    "y = df[\"Fiyat\"]"
   ]
  },
  {
   "cell_type": "code",
   "execution_count": null,
   "id": "17c43f19-3054-4910-9457-8382ce913e44",
   "metadata": {},
   "outputs": [],
   "source": [
    "X_train, X_test, y_train, y_test = train_test_split(X, y, test_size=0.2, shuffle=True, random_state=42)"
   ]
  },
  {
   "cell_type": "code",
   "execution_count": null,
   "id": "17ac011b-7fc3-47b7-a0f6-3ce1c3e74b8c",
   "metadata": {},
   "outputs": [],
   "source": [
    "encoder = OrdinalEncoder(handle_unknown=\"use_encoded_value\", unknown_value=-1)\n",
    "X_train[\"Marka\"] = encoder.fit_transform(X_train[\"Marka\"].values.reshape(-1, 1))\n",
    "X_test[\"Marka\"] = encoder.transform(X_test[\"Marka\"].values.reshape(-1, 1))[:, 0]\n",
    "\n",
    "X_train[\"İşletim Sistemi\"] = encoder.fit_transform(X_train[\"İşletim Sistemi\"].values.reshape(-1, 1))\n",
    "X_test[\"İşletim Sistemi\"] = encoder.transform(X_test[\"İşletim Sistemi\"].values.reshape(-1, 1))\n",
    "\n",
    "X_train[\"Dahili Hafıza\"] = encoder.fit_transform(X_train[\"Dahili Hafıza\"].values.reshape(-1, 1))\n",
    "X_test[\"Dahili Hafıza\"] = encoder.transform(X_test[\"Dahili Hafıza\"].values.reshape(-1, 1))\n",
    "\n",
    "X_train[\"RAM Kapasitesi\"] = encoder.fit_transform(X_train[\"RAM Kapasitesi\"].values.reshape(-1, 1))\n",
    "X_test[\"RAM Kapasitesi\"] = encoder.transform(X_test[\"RAM Kapasitesi\"].values.reshape(-1, 1))\n",
    "\n",
    "X_train[\"Görüntü Teknolojisi\"] = encoder.fit_transform(X_train[\"Görüntü Teknolojisi\"].values.reshape(-1, 1))\n",
    "X_test[\"Görüntü Teknolojisi\"] = encoder.transform(X_test[\"Görüntü Teknolojisi\"].values.reshape(-1, 1))\n",
    "\n",
    "X_train[\"Ekran Çözünürlüğü\"] = encoder.fit_transform(X_train[\"Ekran Çözünürlüğü\"].values.reshape(-1, 1))\n",
    "X_test[\"Ekran Çözünürlüğü\"] = encoder.transform(X_test[\"Ekran Çözünürlüğü\"].values.reshape(-1, 1))\n",
    "\n",
    "X_train[\"Kamera Çözünürlüğü\"] = encoder.fit_transform(X_train[\"Kamera Çözünürlüğü\"].values.reshape(-1, 1))\n",
    "X_test[\"Kamera Çözünürlüğü\"] = encoder.transform(X_test[\"Kamera Çözünürlüğü\"].values.reshape(-1, 1))\n",
    "\n",
    "X_train[\"Batarya Kapasitesi Aralığı\"] = encoder.fit_transform(X_train[\"Batarya Kapasitesi Aralığı\"].values.reshape(-1, 1))\n",
    "X_test[\"Batarya Kapasitesi Aralığı\"] = encoder.transform(X_test[\"Batarya Kapasitesi Aralığı\"].values.reshape(-1, 1))\n",
    "\n",
    "X_train[\"Mobil Bağlantı Hızı\"] = encoder.fit_transform(X_train[\"Mobil Bağlantı Hızı\"].values.reshape(-1, 1))\n",
    "X_test[\"Mobil Bağlantı Hızı\"] = encoder.transform(X_test[\"Mobil Bağlantı Hızı\"].values.reshape(-1, 1))\n",
    "\n",
    "X_train[\"Ekran Boyutu\"] = encoder.fit_transform(X_train[\"Ekran Boyutu\"].values.reshape(-1, 1))\n",
    "X_test[\"Ekran Boyutu\"] = encoder.transform(X_test[\"Ekran Boyutu\"].values.reshape(-1, 1))\n",
    "\n",
    "X_train[\"Parmak İzi Okuyucu\"] = encoder.fit_transform(X_train[\"Parmak İzi Okuyucu\"].values.reshape(-1, 1))\n",
    "X_test[\"Parmak İzi Okuyucu\"] = encoder.transform(X_test[\"Parmak İzi Okuyucu\"].values.reshape(-1, 1))\n",
    " \n",
    "X_train[\"Yüz Tanıma\"] = encoder.fit_transform(X_train[\"Yüz Tanıma\"].values.reshape(-1, 1))\n",
    "X_test[\"Yüz Tanıma\"] = encoder.transform(X_test[\"Yüz Tanıma\"].values.reshape(-1, 1))\n",
    "\n",
    "X_train[\"Suya/Toza Dayanıklılık\"] = encoder.fit_transform(X_train[\"Suya/Toza Dayanıklılık\"].values.reshape(-1, 1))\n",
    "X_test[\"Suya/Toza Dayanıklılık\"] = encoder.transform(X_test[\"Suya/Toza Dayanıklılık\"].values.reshape(-1, 1))\n",
    "\n",
    "X_train[\"Çift Hat\"] = encoder.fit_transform(X_train[\"Çift Hat\"].values.reshape(-1, 1))\n",
    "X_test[\"Çift Hat\"] = encoder.transform(X_test[\"Çift Hat\"].values.reshape(-1, 1))\n",
    "\n",
    "X_train[\"Arttırılabilir Hafıza (Hafıza Kartı Desteği)\"] = encoder.fit_transform(X_train[\"Arttırılabilir Hafıza (Hafıza Kartı Desteği)\"].values.reshape(-1, 1))\n",
    "X_test[\"Arttırılabilir Hafıza (Hafıza Kartı Desteği)\"] = encoder.transform(X_test[\"Arttırılabilir Hafıza (Hafıza Kartı Desteği)\"].values.reshape(-1, 1))\n",
    "\n",
    "X_train[\"Ekran Yenileme Hızı\"] = encoder.fit_transform(X_train[\"Ekran Yenileme Hızı\"].values.reshape(-1, 1))\n",
    "X_test[\"Ekran Yenileme Hızı\"] = encoder.transform(X_test[\"Ekran Yenileme Hızı\"].values.reshape(-1, 1))"
   ]
  },
  {
   "cell_type": "code",
   "execution_count": null,
   "id": "23a2de69-cd7c-4537-adbf-c88883590f93",
   "metadata": {},
   "outputs": [],
   "source": [
    "ss = StandardScaler()\n",
    "X_train = ss.fit_transform(X_train)\n",
    "X_test = ss.transform(X_test)"
   ]
  },
  {
   "cell_type": "markdown",
   "id": "cc7506e9-e971-4f29-9e55-8b50d3797514",
   "metadata": {},
   "source": [
    "# Model"
   ]
  },
  {
   "cell_type": "code",
   "execution_count": null,
   "id": "aec3dd77-e486-4c04-ab5d-d4d833746188",
   "metadata": {},
   "outputs": [],
   "source": [
    "def adjusted_r2(r2, n, k):\n",
    "    return r2 - (k - 1) / (n - k) * (1 - r2)"
   ]
  },
  {
   "cell_type": "code",
   "execution_count": null,
   "id": "ebfa5e50-58b0-436f-8ca8-c633d36187bb",
   "metadata": {},
   "outputs": [],
   "source": [
    "def root_mse(y_test, y_pred):\n",
    "    return np.sqrt(mean_squared_error(y_test, y_pred))"
   ]
  },
  {
   "cell_type": "code",
   "execution_count": null,
   "id": "4659be7e-67d2-4c68-b8c8-03f1babe1acd",
   "metadata": {},
   "outputs": [],
   "source": [
    "kf = KFold(n_splits=5, shuffle=False)"
   ]
  },
  {
   "cell_type": "code",
   "execution_count": null,
   "id": "3a4b2a07-c5a4-41fb-b00b-c431a3011eed",
   "metadata": {},
   "outputs": [],
   "source": [
    "scores_df = pd.DataFrame({\n",
    "    \"Model\": [],\n",
    "    \"R2\": [],\n",
    "    \"Adjusted R2\": [],\n",
    "    \"MSE\": [],\n",
    "    \"RMSE\": [],\n",
    "    \"MAE\": []\n",
    "})"
   ]
  },
  {
   "cell_type": "code",
   "execution_count": null,
   "id": "fda82052-d4d2-41e1-98dd-1c3778203388",
   "metadata": {},
   "outputs": [],
   "source": [
    "lr = LinearRegression()\n",
    "ridge = Ridge()\n",
    "lasso = Lasso()\n",
    "en = ElasticNet()\n",
    "svr = SVR()\n",
    "rf = RandomForestRegressor()\n",
    "gb = GradientBoostingRegressor()\n",
    "ada = AdaBoostRegressor()\n",
    "xgb = XGBRegressor()\n",
    "lgbm = LGBMRegressor()\n",
    "knn = KNeighborsRegressor()"
   ]
  },
  {
   "cell_type": "code",
   "execution_count": null,
   "id": "8a7e5863-d6d7-4e70-9fb0-8cd5b868aed5",
   "metadata": {},
   "outputs": [],
   "source": [
    "def add_to_scores_df(log, model_name, idx):\n",
    "    scores_df.loc[idx] = [model_name, log[\"R2\"][0], log[\"Adjusted R2\"][0], log[\"MSE\"][0], log[\"RMSE\"][0], log[\"MAE\"][0]]"
   ]
  },
  {
   "cell_type": "code",
   "execution_count": null,
   "id": "5ef3bfed-0505-4fb3-b2be-41e5cce7a3a5",
   "metadata": {},
   "outputs": [],
   "source": [
    "def train_model(model):\n",
    "    model_log = pd.DataFrame(columns=[\"R2\", \"Adjusted R2\", \"MSE\", \"RMSE\", \"MAE\"])\n",
    "    model.fit(X_train, y_train)\n",
    "\n",
    "    y_pred = model.predict(X_test)\n",
    "\n",
    "    model_log.loc[0, \"R2\"] = r2_score(y_test, y_pred)\n",
    "    model_log.loc[0, \"Adjusted R2\"] = adjusted_r2(r2_score(y_test, y_pred), X.shape[0], X.shape[1])\n",
    "    model_log.loc[0, \"MSE\"] = mean_squared_error(y_test, y_pred)\n",
    "    model_log.loc[0, \"RMSE\"] = root_mse(y_test, y_pred)\n",
    "    model_log.loc[0, \"MAE\"] = mean_absolute_error(y_test, y_pred)\n",
    "\n",
    "    fig, ax = plt.subplots(figsize=(8, 6))\n",
    "    sns.regplot(x=y_test, y=y_pred)\n",
    "    plt.show()\n",
    "\n",
    "    return model_log"
   ]
  },
  {
   "cell_type": "code",
   "execution_count": null,
   "id": "8c4b63ab-83e2-4b3a-9f08-0dac846dbfd0",
   "metadata": {},
   "outputs": [],
   "source": [
    "lr_log = train_model(lr)\n",
    "add_to_scores_df(lr_log, \"Linear Regression\", 0)\n",
    "lr_log"
   ]
  },
  {
   "cell_type": "code",
   "execution_count": null,
   "id": "0f6bb772-d662-4870-9ad8-ffa273773baa",
   "metadata": {},
   "outputs": [],
   "source": [
    "ridge_log = train_model(ridge)\n",
    "add_to_scores_df(ridge_log, \"Ridge\", 1)\n",
    "ridge_log"
   ]
  },
  {
   "cell_type": "code",
   "execution_count": null,
   "id": "95660a91-a785-4f16-bfe1-f6aa90dd3cd8",
   "metadata": {},
   "outputs": [],
   "source": [
    "lasso_log = train_model(lasso)\n",
    "add_to_scores_df(lasso_log, \"Lasso\", 2)\n",
    "lasso_log"
   ]
  },
  {
   "cell_type": "code",
   "execution_count": null,
   "id": "6e5fbfbf-37b8-44a9-b848-70fb970c281d",
   "metadata": {},
   "outputs": [],
   "source": [
    "en_log = train_model(en)\n",
    "add_to_scores_df(en_log, \"ElasticNet\", 3)\n",
    "en_log"
   ]
  },
  {
   "cell_type": "code",
   "execution_count": null,
   "id": "5ae29e02-67b0-44e2-ad8d-f3fa855838bb",
   "metadata": {},
   "outputs": [],
   "source": [
    "rf_log = train_model(rf)\n",
    "add_to_scores_df(rf_log, \"Random Forests\", 4)\n",
    "rf_log"
   ]
  },
  {
   "cell_type": "code",
   "execution_count": null,
   "id": "da066aa9-f68d-48d9-855c-8e2c214efbd5",
   "metadata": {},
   "outputs": [],
   "source": [
    "gb_log = train_model(gb)\n",
    "add_to_scores_df(gb_log, \"Gradient Boosting\", 5)\n",
    "gb_log"
   ]
  },
  {
   "cell_type": "code",
   "execution_count": null,
   "id": "38deceb3-2fdc-45e7-bb46-2fd6196d20f4",
   "metadata": {},
   "outputs": [],
   "source": [
    "ada_log = train_model(ada)\n",
    "add_to_scores_df(ada_log, \"Ada Boost\", 6)\n",
    "ada_log"
   ]
  },
  {
   "cell_type": "code",
   "execution_count": null,
   "id": "160fb4e5-4da6-4e8b-b6d8-bbc9c35bbfe7",
   "metadata": {},
   "outputs": [],
   "source": [
    "svr_log = train_model(svr)\n",
    "add_to_scores_df(svr_log, \"SVR\", 7)\n",
    "svr_log"
   ]
  },
  {
   "cell_type": "code",
   "execution_count": null,
   "id": "f32223ff-7cac-4532-a014-2f61125d374d",
   "metadata": {},
   "outputs": [],
   "source": [
    "lgbm_log = train_model(lgbm)\n",
    "add_to_scores_df(lgbm_log, \"LGBM\", 8)\n",
    "lgbm_log"
   ]
  },
  {
   "cell_type": "code",
   "execution_count": null,
   "id": "3c8631e5-c757-4512-8084-347a613d5162",
   "metadata": {},
   "outputs": [],
   "source": [
    "xgb_log = train_model(xgb)\n",
    "add_to_scores_df(xgb_log, \"XGBoost\", 9)\n",
    "xgb_log"
   ]
  },
  {
   "cell_type": "code",
   "execution_count": null,
   "id": "4c2defe6-7d18-4148-a88f-6efbc66c014e",
   "metadata": {},
   "outputs": [],
   "source": [
    "knn_log = train_model(knn)\n",
    "add_to_scores_df(knn_log, \"KNeighbors\", 10)\n",
    "knn_log"
   ]
  },
  {
   "cell_type": "code",
   "execution_count": null,
   "id": "64eb56e2-5db8-44c2-964d-203ce1d3be9b",
   "metadata": {},
   "outputs": [],
   "source": [
    "scores_df"
   ]
  },
  {
   "cell_type": "code",
   "execution_count": null,
   "id": "5670a348-8dc6-4934-992e-b1a35363bb25",
   "metadata": {},
   "outputs": [],
   "source": [
    "plt.figure(figsize=(10, 20))\n",
    "\n",
    "plt.subplot(511)\n",
    "ax = sns.barplot(data=scores_df.sort_values(by=\"R2\", ascending=False), y=\"Model\", x=\"R2\")\n",
    "for container in ax.containers:\n",
    "    ax.bar_label(container)\n",
    "plt.title(\"Model / R2 Score\")\n",
    "plt.xlabel(\"\")\n",
    "\n",
    "plt.subplot(512)\n",
    "ax = sns.barplot(data=scores_df.sort_values(by=\"Adjusted R2\", ascending=False), y=\"Model\", x=\"Adjusted R2\")\n",
    "for container in ax.containers:\n",
    "    ax.bar_label(container)\n",
    "plt.title(\"Model / Adjusted R2\")\n",
    "plt.xlabel(\"\")\n",
    "\n",
    "plt.subplot(513)\n",
    "ax = sns.barplot(data=scores_df.sort_values(by=\"MSE\", ascending=True), y=\"Model\", x=\"MSE\")\n",
    "for container in ax.containers:\n",
    "    ax.bar_label(container)\n",
    "plt.title(\"Model / MSE\")\n",
    "plt.xlabel(\"\")\n",
    "\n",
    "plt.subplot(514)\n",
    "ax = sns.barplot(data=scores_df.sort_values(by=\"RMSE\", ascending=True), y=\"Model\", x=\"RMSE\")\n",
    "for container in ax.containers:\n",
    "    ax.bar_label(container)\n",
    "plt.title(\"Model / RMSE\")\n",
    "plt.xlabel(\"\")\n",
    "\n",
    "plt.subplot(515)\n",
    "ax = sns.barplot(data=scores_df.sort_values(by=\"MAE\", ascending=True), y=\"Model\", x=\"MAE\")\n",
    "for container in ax.containers:\n",
    "    ax.bar_label(container)\n",
    "plt.title(\"Model / MAE\")\n",
    "plt.xlabel(\"\")\n",
    "\n",
    "plt.show()"
   ]
  },
  {
   "cell_type": "markdown",
   "id": "df7ceb2d-d275-4e41-b21a-a4b92f03a7c2",
   "metadata": {},
   "source": [
    "# Feature Selection"
   ]
  },
  {
   "cell_type": "code",
   "execution_count": null,
   "id": "041c80c4-8448-4fa5-8bce-1817b9331a02",
   "metadata": {},
   "outputs": [],
   "source": [
    "def plot_correlation_table(df):\n",
    "    corr = df.corr()\n",
    "    fig, axes = plt.subplots(figsize=(20, 20))\n",
    "    mask = np.triu(np.ones_like(corr))\n",
    "    sns.heatmap(corr, mask=mask, linewidth=0.6, annot=True, robust=True, center=0, square=True)\n",
    "    plt.title(\"Correlation Table\")\n",
    "    plt.show()"
   ]
  },
  {
   "cell_type": "code",
   "execution_count": null,
   "id": "2facdbfb-7e9d-47e7-b0fa-28df9c3420ce",
   "metadata": {},
   "outputs": [],
   "source": [
    "plot_correlation_table(pd.DataFrame(X_train, columns=X.columns))"
   ]
  },
  {
   "cell_type": "code",
   "execution_count": null,
   "id": "f0c44924-a0b9-4979-86e7-2821f5ede4c0",
   "metadata": {},
   "outputs": [],
   "source": [
    "f_value = f_regression(X_train, y_train)\n",
    "\n",
    "for feature in zip(X.columns, f_value[0]):\n",
    "    print(feature)"
   ]
  },
  {
   "cell_type": "code",
   "execution_count": null,
   "id": "9bed24b0-0035-4930-b1b1-2d0a3ba6a254",
   "metadata": {},
   "outputs": [],
   "source": [
    "plt.figure(figsize=(4, 4))\n",
    "plt.barh(y=X.columns, width=f_value[0])\n",
    "plt.xticks(rotation=\"vertical\")\n",
    "plt.xlabel(\"F-value\")\n",
    "plt.title(\"F-value Comparison\")\n",
    "plt.show()"
   ]
  },
  {
   "cell_type": "code",
   "execution_count": null,
   "id": "5487ea3b-81ef-46a2-9a1d-33abd2307feb",
   "metadata": {},
   "outputs": [],
   "source": [
    "MI_score = mutual_info_regression(X_train, y_train, random_state=42)\n",
    "\n",
    "for feature in zip(X.columns, MI_score):\n",
    "    print(feature)"
   ]
  },
  {
   "cell_type": "code",
   "execution_count": null,
   "id": "5ec1f736-a23b-4b99-9fe3-71955d0c5a70",
   "metadata": {},
   "outputs": [],
   "source": [
    "plt.figure(figsize=(6, 6))\n",
    "plt.barh(y=X.columns, width=MI_score)\n",
    "plt.xticks(rotation=\"vertical\")\n",
    "plt.yticks(rotation=\"horizontal\")\n",
    "plt.xlabel(\"Mutual Information Score\")\n",
    "plt.title(\"Mutual Information Score Comparison\")\n",
    "plt.show()"
   ]
  },
  {
   "cell_type": "code",
   "execution_count": null,
   "id": "b3f960bd-09d9-41c5-ba44-5ba2e7a55e96",
   "metadata": {},
   "outputs": [],
   "source": [
    "skb = SelectKBest(score_func=f_regression, k=12)                  \n",
    "X_data_new = skb.fit_transform(X_train, y_train)\n",
    "\n",
    "print('Number of features before feature selection: {}'.format(X_train.shape[1]))\n",
    "print('Number of features after feature selection: {}'.format(X_data_new.shape[1]))\n",
    "\n",
    "for feature_list_index in skb.get_support(indices=True):\n",
    "    print('- ' + X.columns[feature_list_index])"
   ]
  },
  {
   "cell_type": "code",
   "execution_count": null,
   "id": "433bfb7d-ccec-4505-a8b4-1526bbb4fcf1",
   "metadata": {},
   "outputs": [],
   "source": [
    "X_train_new = pd.DataFrame(X_train, columns=X.columns)\n",
    "X_test_new = pd.DataFrame(X_test, columns=X.columns)"
   ]
  },
  {
   "cell_type": "code",
   "execution_count": null,
   "id": "c8c1a695-c7a3-4a48-ad47-d37c852cede8",
   "metadata": {},
   "outputs": [],
   "source": [
    "selected_cols = [\"Marka\", \"İşletim Sistemi\", \"RAM Kapasitesi\",\n",
    "                 \"Görüntü Teknolojisi\", \"Batarya Kapasitesi Aralığı\", \"Mobil Bağlantı Hızı\", \"Ekran Boyutu\",\n",
    "                 \"Parmak İzi Okuyucu\", \"Yüz Tanıma\", \"Suya/Toza Dayanıklılık\", \"Çift Hat\", \"Arttırılabilir Hafıza (Hafıza Kartı Desteği)\"]\n",
    "X_train_new = X_train_new[selected_cols]\n",
    "X_test_new = X_test_new[selected_cols]"
   ]
  },
  {
   "cell_type": "code",
   "execution_count": null,
   "id": "1147dd37-731f-4387-9eb5-0cf0aa22608c",
   "metadata": {},
   "outputs": [],
   "source": [
    "f_scores_df = pd.DataFrame({\n",
    "    \"Model\": [],\n",
    "    \"R2\": [],\n",
    "    \"Adjusted R2\": [],\n",
    "    \"MSE\": [],\n",
    "    \"RMSE\": [],\n",
    "    \"MAE\": []\n",
    "})"
   ]
  },
  {
   "cell_type": "code",
   "execution_count": null,
   "id": "2c559177-f4b7-411c-a895-5c8c14c8f991",
   "metadata": {},
   "outputs": [],
   "source": [
    "f_lr = LinearRegression()\n",
    "f_ridge = Ridge()\n",
    "f_lasso = Lasso()\n",
    "f_en = ElasticNet()\n",
    "f_svr = SVR()\n",
    "f_rf = RandomForestRegressor()\n",
    "f_gb = GradientBoostingRegressor()\n",
    "f_ada = AdaBoostRegressor()\n",
    "f_xgb = XGBRegressor()\n",
    "f_lgbm = LGBMRegressor()\n",
    "f_knn = KNeighborsRegressor()"
   ]
  },
  {
   "cell_type": "code",
   "execution_count": null,
   "id": "663e223e-6658-4f84-947c-df5e3c9fdd5a",
   "metadata": {},
   "outputs": [],
   "source": [
    "def add_to_f_scores_df(log, model_name, idx):\n",
    "    f_scores_df.loc[idx] = [model_name, log[\"R2\"][0], log[\"Adjusted R2\"][0], log[\"MSE\"][0], log[\"RMSE\"][0], log[\"MAE\"][0]]"
   ]
  },
  {
   "cell_type": "code",
   "execution_count": null,
   "id": "25da072b-0ca6-4949-8bcd-da900dae1a9b",
   "metadata": {},
   "outputs": [],
   "source": [
    "def train_model(model):\n",
    "    model_log = pd.DataFrame(columns=[\"R2\", \"Adjusted R2\", \"MSE\", \"RMSE\", \"MAE\"])\n",
    "    model.fit(X_train_new, y_train)\n",
    "\n",
    "    y_pred = model.predict(X_test_new)\n",
    "\n",
    "    model_log.loc[0, \"R2\"] = r2_score(y_test, y_pred)\n",
    "    model_log.loc[0, \"Adjusted R2\"] = adjusted_r2(r2_score(y_test, y_pred), X_train_new.shape[0], X_train_new.shape[1])\n",
    "    model_log.loc[0, \"MSE\"] = mean_squared_error(y_test, y_pred)\n",
    "    model_log.loc[0, \"RMSE\"] = root_mse(y_test, y_pred)\n",
    "    model_log.loc[0, \"MAE\"] = mean_absolute_error(y_test, y_pred)\n",
    "\n",
    "    fig, ax = plt.subplots(figsize=(8, 6))\n",
    "    sns.regplot(x=y_test, y=y_pred)\n",
    "    plt.show()\n",
    "\n",
    "    return model_log"
   ]
  },
  {
   "cell_type": "code",
   "execution_count": null,
   "id": "1e451a17-267e-4190-8d0d-3f7d17f91312",
   "metadata": {},
   "outputs": [],
   "source": [
    "f_lr_log = train_model(f_lr)\n",
    "add_to_f_scores_df(f_lr_log, \"Linear Regression\", 0)\n",
    "f_lr_log"
   ]
  },
  {
   "cell_type": "code",
   "execution_count": null,
   "id": "4ac6635e-9199-43ec-92a5-626856b23da7",
   "metadata": {},
   "outputs": [],
   "source": [
    "f_ridge_log = train_model(f_ridge)\n",
    "add_to_f_scores_df(f_ridge_log, \"Ridge\", 1)\n",
    "f_ridge_log"
   ]
  },
  {
   "cell_type": "code",
   "execution_count": null,
   "id": "8f6439ae-7c13-4eac-aa3a-2c407c37c06f",
   "metadata": {},
   "outputs": [],
   "source": [
    "f_lasso_log = train_model(f_lasso)\n",
    "add_to_f_scores_df(f_lasso_log, \"Lasso\", 2)\n",
    "f_lasso_log"
   ]
  },
  {
   "cell_type": "code",
   "execution_count": null,
   "id": "6f61c3be-a69b-4a37-8f7f-d6f7d8556092",
   "metadata": {},
   "outputs": [],
   "source": [
    "f_en_log = train_model(f_en)\n",
    "add_to_f_scores_df(f_en_log, \"ElasticNet\", 3)\n",
    "f_en_log"
   ]
  },
  {
   "cell_type": "code",
   "execution_count": null,
   "id": "1a3709bd-a568-44c7-88d4-a64ce8635cf1",
   "metadata": {},
   "outputs": [],
   "source": [
    "f_rf_log = train_model(f_rf)\n",
    "add_to_f_scores_df(f_rf_log, \"Random Forests\", 4)\n",
    "f_rf_log"
   ]
  },
  {
   "cell_type": "code",
   "execution_count": null,
   "id": "e67ab51d-ba0e-492c-b6df-8854ef742a69",
   "metadata": {},
   "outputs": [],
   "source": [
    "f_gb_log = train_model(f_gb)\n",
    "add_to_f_scores_df(f_gb_log, \"Gradient Boosting\", 5)\n",
    "f_gb_log"
   ]
  },
  {
   "cell_type": "code",
   "execution_count": null,
   "id": "66663735-6a74-4dcb-91c6-202b5ad2bb1e",
   "metadata": {},
   "outputs": [],
   "source": [
    "f_ada_log = train_model(f_ada)\n",
    "add_to_f_scores_df(f_ada_log, \"Ada Boost\", 6)\n",
    "f_ada_log"
   ]
  },
  {
   "cell_type": "code",
   "execution_count": null,
   "id": "b8dedab5-f409-47dc-8835-66f38352f0a3",
   "metadata": {},
   "outputs": [],
   "source": [
    "f_svr_log = train_model(f_svr)\n",
    "add_to_f_scores_df(f_svr_log, \"SVR\", 7)\n",
    "f_svr_log"
   ]
  },
  {
   "cell_type": "code",
   "execution_count": null,
   "id": "ebcf7360-0444-4b16-8bdd-99a6292e121b",
   "metadata": {},
   "outputs": [],
   "source": [
    "f_lgbm_log = train_model(f_lgbm)\n",
    "add_to_f_scores_df(f_lgbm_log, \"LGBM\", 8)\n",
    "f_lgbm_log"
   ]
  },
  {
   "cell_type": "code",
   "execution_count": null,
   "id": "8eb0a4a1-ec51-482a-a6e7-48bcf8b58921",
   "metadata": {},
   "outputs": [],
   "source": [
    "f_xgb_log = train_model(f_xgb)\n",
    "add_to_f_scores_df(f_xgb_log, \"XGBoost\", 9)\n",
    "f_xgb_log"
   ]
  },
  {
   "cell_type": "code",
   "execution_count": null,
   "id": "fab66240-8f54-4aee-ac37-fc68c5743ff9",
   "metadata": {},
   "outputs": [],
   "source": [
    "f_knn_log = train_model(f_knn)\n",
    "add_to_f_scores_df(f_knn_log, \"KNeighbors\", 10)\n",
    "f_knn_log"
   ]
  },
  {
   "cell_type": "code",
   "execution_count": null,
   "id": "fe28c775-8672-450c-ac48-47bd9e3f4a71",
   "metadata": {},
   "outputs": [],
   "source": [
    "plt.figure(figsize=(10, 20))\n",
    "\n",
    "plt.subplot(511)\n",
    "ax = sns.barplot(data=f_scores_df.sort_values(by=\"R2\", ascending=False), y=\"Model\", x=\"R2\")\n",
    "for container in ax.containers:\n",
    "    ax.bar_label(container)\n",
    "plt.title(\"Model / R2 Score\")\n",
    "plt.xlabel(\"\")\n",
    "\n",
    "plt.subplot(512)\n",
    "ax = sns.barplot(data=f_scores_df.sort_values(by=\"Adjusted R2\", ascending=False), y=\"Model\", x=\"Adjusted R2\")\n",
    "for container in ax.containers:\n",
    "    ax.bar_label(container)\n",
    "plt.title(\"Model / Adjusted R2\")\n",
    "plt.xlabel(\"\")\n",
    "\n",
    "plt.subplot(513)\n",
    "ax = sns.barplot(data=f_scores_df.sort_values(by=\"MSE\", ascending=True), y=\"Model\", x=\"MSE\")\n",
    "for container in ax.containers:\n",
    "    ax.bar_label(container)\n",
    "plt.title(\"Model / MSE\")\n",
    "plt.xlabel(\"\")\n",
    "\n",
    "plt.subplot(514)\n",
    "ax = sns.barplot(data=f_scores_df.sort_values(by=\"RMSE\", ascending=True), y=\"Model\", x=\"RMSE\")\n",
    "for container in ax.containers:\n",
    "    ax.bar_label(container)\n",
    "plt.title(\"Model / RMSE\")\n",
    "plt.xlabel(\"\")\n",
    "\n",
    "plt.subplot(515)\n",
    "ax = sns.barplot(data=f_scores_df.sort_values(by=\"MAE\", ascending=True), y=\"Model\", x=\"MAE\")\n",
    "for container in ax.containers:\n",
    "    ax.bar_label(container)\n",
    "plt.title(\"Model / MAE\")\n",
    "plt.xlabel(\"\")\n",
    "\n",
    "plt.show()"
   ]
  },
  {
   "cell_type": "code",
   "execution_count": null,
   "id": "1f2f3937-5c6f-4fe0-82b9-8dff06c87f91",
   "metadata": {},
   "outputs": [],
   "source": [
    "scores_df.sort_values(by=\"R2\", ascending=False)"
   ]
  },
  {
   "cell_type": "code",
   "execution_count": null,
   "id": "96f2e504-e0e6-4769-ba86-f3c18d195cb5",
   "metadata": {},
   "outputs": [],
   "source": [
    "f_scores_df.sort_values(by=\"R2\", ascending=False)"
   ]
  },
  {
   "cell_type": "markdown",
   "id": "ab8a2d46-5d0f-462f-8ea5-dd41a2ced671",
   "metadata": {},
   "source": [
    "# Hyperparameter Tuning"
   ]
  },
  {
   "cell_type": "code",
   "execution_count": null,
   "id": "5d40924b-3110-40e2-b80c-446dd965a229",
   "metadata": {},
   "outputs": [],
   "source": [
    "t_scores_df = pd.DataFrame({\n",
    "    \"Model\": [],\n",
    "    \"R2\": [],\n",
    "    \"Adjusted R2\": [],\n",
    "    \"MSE\": [],\n",
    "    \"RMSE\": [],\n",
    "    \"MAE\": []\n",
    "})"
   ]
  },
  {
   "cell_type": "code",
   "execution_count": null,
   "id": "a5f54208-9730-4987-adbc-9b655f3d92d0",
   "metadata": {},
   "outputs": [],
   "source": [
    "def add_to_t_scores_df(log, model_name, idx):\n",
    "    t_scores_df.loc[idx] = [model_name, log[\"R2\"][0], log[\"Adjusted R2\"][0], log[\"MSE\"][0], log[\"RMSE\"][0], log[\"MAE\"][0]]"
   ]
  },
  {
   "cell_type": "code",
   "execution_count": null,
   "id": "985c9f9e-b5ad-41b0-8353-c50621efb895",
   "metadata": {},
   "outputs": [],
   "source": [
    "rf_params = {\n",
    "    \"bootstrap\": [True, False],\n",
    "    \"max_depth\": [2, 3, 4, 5, 6, 8],\n",
    "    \"max_features\": [0.05, 0.1, 0.2, 0.5, 0.7, 0.9, 0.95, 0.99, 1],\n",
    "    \"min_samples_split\": [0.05, 0.1, 0.2, 0.5, 0.7, 0.9, 0.95, 0.99, 1],\n",
    "    \"n_estimators\": [50, 100, 250, 500, 1000]\n",
    "}\n",
    "\n",
    "rf_model = RandomForestRegressor()\n",
    "\n",
    "cv = RandomizedSearchCV(rf_model, rf_params, n_iter=10, cv=3, n_jobs=-1, verbose=0)\n",
    "cv.fit(X_train_new, y_train)\n",
    "\n",
    "print(\"Best hyperparams:\\n\", cv.best_params_)\n",
    "print(\"Best score: \", cv.best_score_)"
   ]
  },
  {
   "cell_type": "code",
   "execution_count": null,
   "id": "d051b169-4a44-4d80-9897-db6295b64503",
   "metadata": {},
   "outputs": [],
   "source": [
    "rf_tuned = RandomForestRegressor(**cv.best_params_)\n",
    "rf_tuned_log = train_model(rf_tuned)\n",
    "add_to_t_scores_df(rf_tuned_log, \"Random Forests\", 0)\n",
    "rf_tuned_log"
   ]
  },
  {
   "cell_type": "code",
   "execution_count": null,
   "id": "7cd6f03a-5f1d-409f-8d80-f08c2e6b2b7a",
   "metadata": {
    "scrolled": true
   },
   "outputs": [],
   "source": [
    "lgbm_params ={\n",
    "    'learning_rate':[0.01, 0.1, 0.5],\n",
    "    'n_estimators':[100,500,1000,1250],\n",
    "    'colsample_bytree': [0.3, 0.7, 1],\n",
    "    'max_bin':[100, 250, 300],\n",
    "    'max_depth':[2, 3, 4, 6],\n",
    "    'min_data_in_leaf':[10, 20, 50],\n",
    "    'reg_alpha': [1, 2, 5, 10],\n",
    "    'reg_lambda': [1, 2, 5, 10],\n",
    "    'min_gain_to_split':[1, 3, 5, 10]\n",
    "}\n",
    "\n",
    "lgbm_model = LGBMRegressor()\n",
    "cv = RandomizedSearchCV(lgbm_model, lgbm_params, n_iter=10, cv=3, n_jobs=-1, verbose=0)\n",
    "cv.fit(X_train_new, y_train)\n",
    "\n",
    "print(\"Best hyperparams:\\n\", cv.best_params_)\n",
    "print(\"Best score: \", cv.best_score_)"
   ]
  },
  {
   "cell_type": "code",
   "execution_count": null,
   "id": "694280e8-d12b-4fe7-8d5b-9579b52b7f95",
   "metadata": {},
   "outputs": [],
   "source": [
    "lgbm_tuned = LGBMRegressor(**cv.best_params_)\n",
    "lgbm_tuned = train_model(lgbm_tuned)\n",
    "add_to_t_scores_df(lgbm_tuned, \"LGBM\", 1)\n",
    "lgbm_tuned"
   ]
  },
  {
   "cell_type": "code",
   "execution_count": null,
   "id": "aba75e92-493a-4af3-aa88-8324e7c12b09",
   "metadata": {
    "scrolled": true
   },
   "outputs": [],
   "source": [
    "xgb_params = {\n",
    "    'n_estimators': [100, 250, 500, 1000],\n",
    "    'booster':['gbtree', 'gblinear'],\n",
    "    'learning_rate':[0.01, 0.1, 0.5],\n",
    "    'max_depth':[2, 3, 5, 7, 10],\n",
    "    'subsample':[0.5, 0.6, 0.7],\n",
    "    'min_child_weight': [5, 10, 25],\n",
    "    'gamma':[5, 10, 25, 50],\n",
    "    'lambda':[5, 10, 25, 50],\n",
    "}\n",
    "\n",
    "xgb_model = XGBRegressor()\n",
    "cv = RandomizedSearchCV(xgb_model, xgb_params, n_iter=10, cv=3, n_jobs=-1, verbose=0)\n",
    "cv.fit(X_train_new, y_train)\n",
    "\n",
    "print(\"Best hyperparams:\\n\", cv.best_params_)\n",
    "print(\"Best score: \", cv.best_score_)"
   ]
  },
  {
   "cell_type": "code",
   "execution_count": null,
   "id": "11939527-5e0d-438d-84ff-324931bb1466",
   "metadata": {},
   "outputs": [],
   "source": [
    "xgb_tuned = XGBRegressor(**cv.best_params_)\n",
    "xgb_tuned_log = train_model(xgb_tuned)\n",
    "add_to_t_scores_df(xgb_tuned_log, \"XGBRegressor\", 2)\n",
    "xgb_tuned_log"
   ]
  },
  {
   "cell_type": "markdown",
   "id": "ed1f2364-4285-41bf-9d26-8b43fb5ac706",
   "metadata": {},
   "source": [
    "# Results"
   ]
  },
  {
   "cell_type": "code",
   "execution_count": null,
   "id": "7a7d8c77-1a38-4779-bb63-a9d5b6df166e",
   "metadata": {},
   "outputs": [],
   "source": [
    "t_scores_df"
   ]
  },
  {
   "cell_type": "code",
   "execution_count": null,
   "id": "2ac6ea25-f56f-454c-85b4-7585511b7932",
   "metadata": {},
   "outputs": [],
   "source": [
    "plt.figure(figsize=(10, 20))\n",
    "\n",
    "plt.subplot(511)\n",
    "ax = sns.barplot(data=t_scores_df.sort_values(by=\"R2\", ascending=False), y=\"Model\", x=\"R2\")\n",
    "for container in ax.containers:\n",
    "    ax.bar_label(container)\n",
    "plt.title(\"Model / R2 Score\")\n",
    "plt.xlabel(\"\")\n",
    "\n",
    "plt.subplot(512)\n",
    "ax = sns.barplot(data=t_scores_df.sort_values(by=\"Adjusted R2\", ascending=False), y=\"Model\", x=\"Adjusted R2\")\n",
    "for container in ax.containers:\n",
    "    ax.bar_label(container)\n",
    "plt.title(\"Model / Adjusted R2\")\n",
    "plt.xlabel(\"\")\n",
    "\n",
    "plt.subplot(513)\n",
    "ax = sns.barplot(data=t_scores_df.sort_values(by=\"MSE\", ascending=True), y=\"Model\", x=\"MSE\")\n",
    "for container in ax.containers:\n",
    "    ax.bar_label(container)\n",
    "plt.title(\"Model / MSE\")\n",
    "plt.xlabel(\"\")\n",
    "\n",
    "plt.subplot(514)\n",
    "ax = sns.barplot(data=t_scores_df.sort_values(by=\"RMSE\", ascending=True), y=\"Model\", x=\"RMSE\")\n",
    "for container in ax.containers:\n",
    "    ax.bar_label(container)\n",
    "plt.title(\"Model / RMSE\")\n",
    "plt.xlabel(\"\")\n",
    "\n",
    "plt.subplot(515)\n",
    "ax = sns.barplot(data=t_scores_df.sort_values(by=\"MAE\", ascending=True), y=\"Model\", x=\"MAE\")\n",
    "for container in ax.containers:\n",
    "    ax.bar_label(container)\n",
    "plt.title(\"Model / MAE\")\n",
    "plt.xlabel(\"\")\n",
    "\n",
    "plt.show()"
   ]
  },
  {
   "cell_type": "code",
   "execution_count": null,
   "id": "a4ea9b45-009f-41bf-a4d7-6136e39a8558",
   "metadata": {},
   "outputs": [],
   "source": []
  },
  {
   "cell_type": "code",
   "execution_count": null,
   "id": "5fd75622-bc46-4622-ad49-84fa2ce6b0b7",
   "metadata": {},
   "outputs": [],
   "source": []
  }
 ],
 "metadata": {
  "kernelspec": {
   "display_name": "Python 3 (ipykernel)",
   "language": "python",
   "name": "python3"
  },
  "language_info": {
   "codemirror_mode": {
    "name": "ipython",
    "version": 3
   },
   "file_extension": ".py",
   "mimetype": "text/x-python",
   "name": "python",
   "nbconvert_exporter": "python",
   "pygments_lexer": "ipython3",
   "version": "3.10.12"
  }
 },
 "nbformat": 4,
 "nbformat_minor": 5
}
